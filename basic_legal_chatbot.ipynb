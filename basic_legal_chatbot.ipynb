{
 "cells": [
  {
   "cell_type": "code",
   "execution_count": 2,
   "id": "7c46939a",
   "metadata": {},
   "outputs": [
    {
     "name": "stderr",
     "output_type": "stream",
     "text": [
      "[nltk_data] Downloading package punkt to C:\\Users\\navved\n",
      "[nltk_data]     choudhary\\AppData\\Roaming\\nltk_data...\n",
      "[nltk_data]   Package punkt is already up-to-date!\n",
      "[nltk_data] Downloading package wordnet to C:\\Users\\navved\n",
      "[nltk_data]     choudhary\\AppData\\Roaming\\nltk_data...\n",
      "[nltk_data]   Package wordnet is already up-to-date!\n"
     ]
    },
    {
     "name": "stdout",
     "output_type": "stream",
     "text": [
      "LegalBot: Hello! I can answer your basic legal questions. Type 'exit' to quit.\n",
      "You: What is GSTIN?\n",
      "LegalBot: GSTIN (Goods and Services Tax Identification Number) is a unique number assigned to each taxpayer under GST law.\n",
      "You: \"What is arbitration?\n",
      "LegalBot: Arbitration is a method of resolving disputes outside the courts, where an arbitrator makes decisions that are legally binding.\n",
      "You: exit\n",
      "LegalBot: Thank you for using LegalBot. Goodbye!\n"
     ]
    }
   ],
   "source": [
    "# legal_chatbot.py\n",
    "\n",
    "import json\n",
    "import random\n",
    "import nltk\n",
    "import string\n",
    "from sklearn.feature_extraction.text import TfidfVectorizer\n",
    "from sklearn.metrics.pairwise import cosine_similarity\n",
    "\n",
    "# Download required nltk packages\n",
    "nltk.download('punkt')\n",
    "nltk.download('wordnet')\n",
    "\n",
    "# Preprocessing\n",
    "from nltk.stem import WordNetLemmatizer\n",
    "\n",
    "lemmatizer = WordNetLemmatizer()\n",
    "\n",
    "def clean_text(text):\n",
    "    text = text.lower()\n",
    "    text = ''.join([ch for ch in text if ch not in string.punctuation])\n",
    "    tokens = nltk.word_tokenize(text)\n",
    "    tokens = [lemmatizer.lemmatize(word) for word in tokens]\n",
    "    return \" \".join(tokens)\n",
    "\n",
    "# Load Legal FAQs\n",
    "with open('legal_faq.json', 'r') as file:\n",
    "    faq = json.load(file)\n",
    "\n",
    "questions = faq['questions']\n",
    "answers = faq['answers']\n",
    "\n",
    "# Preprocess all questions\n",
    "cleaned_questions = [clean_text(q) for q in questions]\n",
    "\n",
    "# Initialize Vectorizer\n",
    "vectorizer = TfidfVectorizer()\n",
    "X = vectorizer.fit_transform(cleaned_questions)\n",
    "\n",
    "# Chatbot Logic\n",
    "def get_response(user_input):\n",
    "    user_input_clean = clean_text(user_input)\n",
    "    user_vec = vectorizer.transform([user_input_clean])\n",
    "    \n",
    "    similarities = cosine_similarity(user_vec, X)\n",
    "    max_sim_idx = similarities.argmax()\n",
    "    max_sim_score = similarities[0, max_sim_idx]\n",
    "    \n",
    "    if max_sim_score < 0.3:  # Threshold for understanding\n",
    "        return \"I'm sorry, I couldn't understand your query. Please consult a legal professional.\"\n",
    "    else:\n",
    "        return answers[max_sim_idx]\n",
    "\n",
    "# Main Chat Loop\n",
    "def chat():\n",
    "    print(\"LegalBot: Hello! I can answer your basic legal questions. Type 'exit' to quit.\")\n",
    "    while True:\n",
    "        user_input = input(\"You: \")\n",
    "        if user_input.lower() == 'exit':\n",
    "            print(\"LegalBot: Thank you for using LegalBot. Goodbye!\")\n",
    "            break\n",
    "        response = get_response(user_input)\n",
    "        print(f\"LegalBot: {response}\")\n",
    "\n",
    "if __name__ == \"__main__\":\n",
    "    chat()\n"
   ]
  },
  {
   "cell_type": "code",
   "execution_count": null,
   "id": "2a3d034b",
   "metadata": {},
   "outputs": [],
   "source": []
  }
 ],
 "metadata": {
  "kernelspec": {
   "display_name": "Python 3 (ipykernel)",
   "language": "python",
   "name": "python3"
  },
  "language_info": {
   "codemirror_mode": {
    "name": "ipython",
    "version": 3
   },
   "file_extension": ".py",
   "mimetype": "text/x-python",
   "name": "python",
   "nbconvert_exporter": "python",
   "pygments_lexer": "ipython3",
   "version": "3.9.7"
  }
 },
 "nbformat": 4,
 "nbformat_minor": 5
}
